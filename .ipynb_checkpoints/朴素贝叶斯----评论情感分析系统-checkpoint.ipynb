{
 "cells": [
  {
   "attachments": {},
   "cell_type": "markdown",
   "id": "423eac66",
   "metadata": {},
   "source": [
    "## Step1: 爬取京东评论，作为模型数据集"
   ]
  },
  {
   "attachments": {},
   "cell_type": "markdown",
   "id": "7f41834d",
   "metadata": {},
   "source": [
    "爬取10个京东商品的评论信息，每个商品爬取1000条，其中好评信息爬取6000条，差评信息爬取4000条。\n",
    "\n",
    "作为本次评论情感分析的**数据集**。"
   ]
  },
  {
   "attachments": {},
   "cell_type": "markdown",
   "id": "f83461b9",
   "metadata": {},
   "source": [
    "### 测试爬虫"
   ]
  },
  {
   "cell_type": "code",
   "execution_count": 13,
   "id": "837aad75",
   "metadata": {
    "scrolled": false
   },
   "outputs": [
    {
     "name": "stdout",
     "output_type": "stream",
     "text": [
      "[['小米真不错，比**们的华伪好太多了', '0'], ['不能退货，服务态度贼差，再也不会买小米了', '0'], ['不好不不好不好不好，说好的东西没有送，生气', '0'], ['到手十天已经打不开机了，小米真有你的', '0'], ['20号的订单等了9天，就这冲高端？', '0'], ['好歹配一个取卡针啊，啥都没有', '0'], ['品控有问题，摄像头里面有灰尘！！！', '0'], ['屏幕触感不流畅，系统也会卡顿', '0'], ['总是没法接听别人电话，别人电话打进来提示关机', '0'], ['到手第二天就死机，卡的一动不动，按锁屏键都没用', '0']]\n"
     ]
    }
   ],
   "source": [
    "import requests\n",
    "import json\n",
    "#获取评论请求地址\n",
    "url = 'https://club.jd.com/comment/productPageComments.action'\n",
    "#请求参数\n",
    "params = {\n",
    "    'callback': 'fetchJSON_comment98',\n",
    "    'productId': '100049486743',\n",
    "    'score': '1',            \n",
    "    'sortType': '5',         \n",
    "    'page': '2',            \n",
    "    'pageSize': '10',\n",
    "    'isShadowSku': '0',\n",
    "    'fold': '1',\n",
    "}\n",
    "#请求头参数，反反爬策略 UA 伪装\n",
    "headers = {\n",
    "    'User-Agent': 'Mozilla/5.0 (Windows NT 10.0; Win64; x64) AppleWebKit/537.36 (KHTML, like Gecko) Chrome/104.0.0.0 Safari/537.36'\n",
    "}\n",
    "#获取响应，并分析响应内容\n",
    "response = requests.get(url = url, params=params, headers=headers)\n",
    "#拆分京东返回的响应数据，得到json类型数据\n",
    "data_json = response.text.replace('fetchJSON_comment98(', '')[:-2]\n",
    "#将json字符串加载为 python的对象中\n",
    "data = json.loads(data_json)\n",
    "good_comments = []\n",
    "for comment in data['comments']:   \n",
    "    #生成每条评论以及它的标签, 0代表好评, 1代表差评\n",
    "    comments = [comment['content'].replace('\\n', ''), '0']  \n",
    "    good_comments.append(comments)\n",
    "print(good_comments)"
   ]
  },
  {
   "attachments": {},
   "cell_type": "markdown",
   "id": "ff68dd81",
   "metadata": {},
   "source": [
    "### 爬取6000条好评信息作为数据集，并存储为CSV文件"
   ]
  },
  {
   "attachments": {},
   "cell_type": "markdown",
   "id": "12e98874",
   "metadata": {},
   "source": [
    "由于水平原因，总是被反爬虫，所以本段代码需要执行6次，来爬取6000条信息，每次执行需要更换以下**ids**中的商品**id**。"
   ]
  },
  {
   "cell_type": "code",
   "execution_count": 20,
   "id": "c1577509",
   "metadata": {},
   "outputs": [
    {
     "name": "stdout",
     "output_type": "stream",
     "text": [
      "1\n",
      "2\n",
      "3\n",
      "4\n",
      "5\n",
      "6\n",
      "7\n",
      "8\n",
      "9\n",
      "10\n",
      "11\n",
      "12\n",
      "13\n",
      "14\n",
      "15\n",
      "16\n",
      "17\n",
      "18\n",
      "19\n",
      "20\n",
      "21\n",
      "22\n",
      "23\n",
      "24\n",
      "25\n",
      "26\n",
      "27\n",
      "28\n",
      "29\n",
      "30\n",
      "31\n",
      "32\n",
      "33\n",
      "34\n",
      "35\n",
      "36\n",
      "37\n",
      "38\n",
      "39\n",
      "40\n",
      "41\n",
      "42\n",
      "43\n",
      "44\n",
      "45\n",
      "46\n",
      "47\n",
      "48\n",
      "49\n",
      "50\n",
      "51\n",
      "52\n",
      "53\n",
      "54\n",
      "55\n",
      "56\n",
      "57\n",
      "58\n",
      "59\n",
      "60\n",
      "61\n",
      "62\n",
      "63\n",
      "64\n",
      "65\n",
      "66\n",
      "67\n",
      "68\n",
      "69\n",
      "70\n",
      "71\n",
      "72\n",
      "73\n",
      "74\n",
      "75\n",
      "76\n",
      "77\n",
      "78\n",
      "79\n",
      "80\n",
      "81\n",
      "82\n",
      "83\n",
      "84\n",
      "85\n",
      "86\n",
      "87\n",
      "88\n",
      "89\n",
      "90\n",
      "91\n",
      "92\n",
      "93\n",
      "94\n",
      "95\n",
      "96\n",
      "97\n",
      "98\n",
      "99\n",
      "100\n"
     ]
    }
   ],
   "source": [
    "import requests\n",
    "import json\n",
    "import time\n",
    "import csv\n",
    "\n",
    "\n",
    "#获取评论请求地址\n",
    "url = 'https://club.jd.com/comment/productPageComments.action'\n",
    "\n",
    "\n",
    "#请求头参数，反反爬策略 UA 伪装\n",
    "headers = {\n",
    "    'User-Agent': 'Mozilla/5.0 (Windows NT 10.0; Win64; x64) AppleWebKit/537.36 (KHTML, like Gecko) Chrome/104.0.0.0 Safari/537.36'\n",
    "}\n",
    "\n",
    "#存放每个商品的id，理论上行得通，实际上行不通，因为反爬策略所以需要多次执行\n",
    "ids = ['100038004353','100047126811','100049486743','100037199917', '100021771660','10028600516824']\n",
    "\n",
    "#用于存放所有好评信息的数据\n",
    "good_comments = []\n",
    "\n",
    "for i in range(100):\n",
    "    #请求参数\n",
    "    params = {\n",
    "        'callback': 'fetchJSON_comment98',\n",
    "        'productId': '100038004353',          #代表产品的 id \n",
    "        'score': '3',                         #score = 3 代表均为好评信息\n",
    "        'sortType': '5',                      #排序方式，采用默认排序\n",
    "        'page': str(i),                       #循环爬取每一页的评论信息\n",
    "        'pageSize': '10',\n",
    "        'isShadowSku': '0',\n",
    "        'fold': '1',\n",
    "    }\n",
    "    \n",
    "    #获取响应，并分析响应内容\n",
    "    response = requests.get(url = url, params=params, headers=headers)\n",
    "\n",
    "    #拆分京东返回的响应数据，得到json类型数据\n",
    "    data_json = response.text.replace('fetchJSON_comment98(', '')[:-2]\n",
    "\n",
    "    #将json字符串加载为 python的对象中\n",
    "    data = json.loads(data_json)\n",
    "    \n",
    "    #设置标签为 3， 代表好评\n",
    "    target = '3'\n",
    "    \n",
    "    for comment in data['comments']:\n",
    "        \n",
    "        #对评论数据稍作处理。 去除一些制表符、回车符、包括csv文件分组的','逗号\n",
    "        comment_data = comment[\n",
    "            'content'].replace('\\n', '，').replace(\n",
    "            ',', '，').replace('&hellip;','').replace('&nbsp;','')\n",
    "        \n",
    "        #生成每条评论以及它的标签, 3代表好评, 1代表差评\n",
    "        comments = [comment_data, target]\n",
    "\n",
    "        good_comments.append(comments)\n",
    "\n",
    "    print(i+1)\n",
    "    #延迟爬虫，避免反爬\n",
    "    time.sleep(3)\n",
    "\n",
    "\n",
    "#以 写 的方式打开csv文件，并写入好评信息\n",
    "with open('C:/Users/jiajian233/Desktop/朴素贝叶斯/datasets/new_comments.csv', 'a+', encoding='UTF-8', newline='') as fp:\n",
    "    writer = csv.writer(fp)\n",
    "    writer.writerows(good_comments)\n"
   ]
  },
  {
   "attachments": {},
   "cell_type": "markdown",
   "id": "26578989",
   "metadata": {},
   "source": [
    "### 爬取4000条差评信息作为数据集，并存储为CSV文件"
   ]
  },
  {
   "cell_type": "code",
   "execution_count": 28,
   "id": "a4c8b627",
   "metadata": {
    "scrolled": false
   },
   "outputs": [
    {
     "name": "stdout",
     "output_type": "stream",
     "text": [
      "1\n",
      "2\n",
      "3\n",
      "4\n",
      "5\n",
      "6\n",
      "7\n",
      "8\n",
      "9\n",
      "10\n",
      "11\n",
      "12\n",
      "13\n",
      "14\n",
      "15\n",
      "16\n",
      "17\n",
      "18\n",
      "19\n",
      "20\n",
      "21\n",
      "22\n",
      "23\n",
      "24\n",
      "25\n",
      "26\n",
      "27\n",
      "28\n",
      "29\n",
      "30\n",
      "31\n",
      "32\n",
      "33\n",
      "34\n",
      "35\n",
      "36\n",
      "37\n",
      "38\n",
      "39\n",
      "40\n",
      "41\n",
      "42\n",
      "43\n",
      "44\n",
      "45\n",
      "46\n",
      "47\n",
      "48\n",
      "49\n",
      "50\n",
      "51\n",
      "52\n",
      "53\n",
      "54\n",
      "55\n",
      "56\n",
      "57\n",
      "58\n",
      "59\n",
      "60\n"
     ]
    }
   ],
   "source": [
    "#用于存放所有差评信息的数据\n",
    "bad_comments = []\n",
    "ids = ['100038004353','100047126811','100049486743','100037199917', '100021771660','10028600516824']\n",
    "for i in range(60):\n",
    "    \n",
    "    #请求参数\n",
    "    params = {\n",
    "        'callback': 'fetchJSON_comment98',\n",
    "        'productId': '10028600516824',\n",
    "        'score': '1',                         #score = 1 代表均为差评信息\n",
    "        'sortType': '5',\n",
    "        'page': str(i),                       #循环爬取每一页的评论信息\n",
    "        'pageSize': '10',\n",
    "        'isShadowSku': '0',\n",
    "        'fold': '1',\n",
    "    }\n",
    "    \n",
    "    #获取响应，并分析响应内容\n",
    "    response = requests.get(url = url, params=params, headers=headers)\n",
    "\n",
    "    #拆分京东返回的响应数据，得到json类型数据\n",
    "    data_json = response.text.replace('fetchJSON_comment98(', '')[:-2]\n",
    "\n",
    "    #将json字符串加载为 python的对象中\n",
    "    data = json.loads(data_json)\n",
    "    \n",
    "    #设置标签为 1， 代表差评\n",
    "    target = '1'\n",
    "    \n",
    "    for comment in data['comments']:\n",
    "        \n",
    "        #对评论数据稍作处理， 去除'\\n'换行符和 csv文件分隔符 ',' 逗号\n",
    "        comment_data = comment['content'].replace('\\n', '，').replace(',', '，').replace('&hellip;','').replace('&nbsp;','')\n",
    "        \n",
    "        #生成每条评论以及它的标签, 0代表好评, 1代表差评\n",
    "        comments = [comment_data, target]\n",
    "\n",
    "        bad_comments.append(comments)\n",
    "\n",
    "    \n",
    "    print(i+1)\n",
    "    #延迟爬虫，避免反爬\n",
    "    time.sleep(5)\n",
    "\n",
    "\n",
    "#以 追加 的方式打开csv文件，并写入好评信息\n",
    "with open('C:/Users/jiajian233/Desktop/朴素贝叶斯/datasets/new_comments.csv', 'a+', encoding='UTF-8', newline='') as fp:\n",
    "    writer = csv.writer(fp)\n",
    "    writer.writerows(bad_comments)"
   ]
  },
  {
   "attachments": {},
   "cell_type": "markdown",
   "id": "4bbbc1cf",
   "metadata": {},
   "source": [
    "## Step2: 读取数据集"
   ]
  },
  {
   "cell_type": "code",
   "execution_count": 1,
   "id": "1a9892f1",
   "metadata": {},
   "outputs": [
    {
     "name": "stdout",
     "output_type": "stream",
     "text": [
      "[['\\ufeff笔记本电脑今天到了 一下课就去领了 很好用，才两天就拿到手了，物流很快，也很好看，外观很酷，很流畅 一直都很相信联想 大大的好评 客服态度也很好 很耐心解答很多问题'\n",
      "  '3']\n",
      " ['之前纠结了好久要不要买拯救者  喜欢这个电脑外观。轻薄 高端。咬咬牙买了  今天到了 果然没有让我失望。甚至于超出我的预期  物有所值。喜欢的朋友可以安心下单。我之前用的外星人 太大 太重  喜欢轻薄。性能又好的朋友可以不用犹豫。直接下单。'\n",
      "  '3']\n",
      " ['拿到货了，发货速度比较快，哈哈哈特别激动，感觉打开，宝贝真的很不错，外观比较精美，与卖家描述的还是一致的，产品性能也还可以，挺满意的，大牌感爆棚，建议购买'\n",
      "  '3']\n",
      " ['外形外观：外观非常有质感，好看。，画面品质：画质很高工作起来眼睛很舒服。，快递发货迅速，还送了清洁套装，和鼠标，非常不错。' '3']\n",
      " ['包装保护很好。开机速度也不错。一直很看好拯救者 真的非常的帅气?，包装保护：很好，外形外观：很不错，画面品质：可以的' '3']\n",
      " ['个人感觉 续航能力强，运行速度很满意，性价比还是挺高的。电脑流畅，客服也挺热心，鼠标键盘挺灵敏，外观也比好看' '3']\n",
      " ['收到货了，电脑是正品，屏幕没有问题，外观也没有划痕，流畅度很好，现在正准备下载一些学习软件，客服人也好，很耐心的回答问题，物流也快，妥妥好评'\n",
      "  '3']\n",
      " ['包装保护：包装很严实，基本上不可能有破损，外形外观：颜值相当的高，非常可以推荐，画面品质：画质非常清晰，舒服' '3']\n",
      " ['电脑性能很强，运行速度很快，符合预期。全键盘结构用起来很舒服，高刷新率让画面更流畅。赠送的东西质量也很好，值得好评！' '3']\n",
      " ['电脑非常好   很丝滑  屏幕处理器都挺好的   一些大游戏毫无压力  下载东西也很便捷  而且快递运输很快   非常赞?' '3']]\n",
      "(8517, 2)\n"
     ]
    }
   ],
   "source": [
    "import csv\n",
    "import numpy as np\n",
    "\n",
    "#用来存放评论的数据集\n",
    "dataset = None\n",
    "\n",
    "#打开文件，并将所有评论信息读取至数据集\n",
    "with open('C:/Users/jiajian233/Desktop/朴素贝叶斯/datasets/comments_no2.csv', 'r', encoding='UTF-8') as fp:\n",
    "    reader = csv.reader(fp)\n",
    "    \n",
    "    dataset = np.array([comment for comment in reader])\n",
    "\n",
    "#输出数据集的形状\n",
    "print(dataset[0:10])\n",
    "print(dataset.shape)"
   ]
  },
  {
   "attachments": {},
   "cell_type": "markdown",
   "id": "d32dcd6d",
   "metadata": {},
   "source": [
    "可见，该数据集一共包含10000条数据，包含评论信息、评论类别信息。"
   ]
  },
  {
   "attachments": {},
   "cell_type": "markdown",
   "id": "7bf74a92",
   "metadata": {},
   "source": [
    "## Step3: 数据预处理(分词、去除停用词、建立词典)"
   ]
  },
  {
   "cell_type": "code",
   "execution_count": 2,
   "id": "8db2ab95",
   "metadata": {
    "scrolled": false
   },
   "outputs": [
    {
     "name": "stderr",
     "output_type": "stream",
     "text": [
      "Building prefix dict from the default dictionary ...\n",
      "Loading model from cache C:\\Users\\JIAJIA~1\\AppData\\Local\\Temp\\jieba.cache\n",
      "Loading model cost 0.609 seconds.\n",
      "Prefix dict has been built successfully.\n"
     ]
    },
    {
     "name": "stdout",
     "output_type": "stream",
     "text": [
      "['\\ufeff', '笔记本电脑', '今天', '到', '了', ' ', '一下', '课', '就', '去', '领', '很', '好', '用', '，', '才', '两天', '拿到', '手', '物流']\n",
      "[[['\\ufeff', '笔记本电脑', ' ', '课', '领', ' ', '两天', '拿到', '手', '物流', '很快', '好看', '外观', '很酷', '流畅', ' ', '联想', ' ', '大大的', '好评', ' ', '客服', '态度', ' ', '耐心', '解答'], '3'], [['纠结', '好久', '买', '拯救', ' ', ' ', '喜欢', '电脑', '外观', '轻薄', ' ', '高端', '咬咬牙', '买', ' ', ' ', ' ', '失望', '超出', '预期', ' ', ' ', '物有所值', '喜欢', '朋友', '安心', '下单', '外星人', ' ', '太', ' ', '太重', ' ', ' ', '喜欢', '轻薄', '性能', '朋友', '不用', '犹豫', '下单'], '3'], [['拿到', '货', '发货', '速度', '哈哈哈', '特别', '激动', '感觉', '打开', '宝贝', '真的', '不错', '外观', '精美', '卖家', '描述', '产品', '性能', '挺', '满意', '大牌', '感', '爆棚', '建议', '购买'], '3'], [['外形', '外观', '外观', '质感', '好看', '画面', '品质', '画质', '高', '工作', '眼睛', '舒服', '快递', '发货', '送', '清洁', '套装', '鼠标', '不错'], '3'], [['包装', '保护', '开机', '速度', '不错', '看好', '拯救', ' ', '真的', '帅气', '包装', '保护', '外形', '外观', '不错', '画面', '品质'], '3'], [['个人感觉', ' ', '续航', '能力', '强', '运行', '速度', '满意', '性价比', '挺', '高', '电脑', '流畅', '客服', '挺', '热心', '鼠标', '键盘', '挺', '灵敏', '外观', '好看'], '3'], [['收到', '货', '电脑', '正品', '屏幕', '外观', '划痕', '流畅', '度', '正', '下载', '学习', '软件', '客服', '耐心', '回答', '物流', '妥妥', '好评'], '3'], [['包装', '保护', '包装', '严实', '破损', '外形', '外观', '颜值', '高', '推荐', '画面', '品质', '画质', '清晰', '舒服'], '3'], [['电脑', '性能', '很强', '运行', '速度', '很快', '符合', '预期', '全', '键盘', '结构', '舒服', '高', '刷新率', '画面', '流畅', '赠送', '东西', '质量', '值得', '好评'], '3'], [['电脑', ' ', ' ', ' ', '很丝滑', ' ', ' ', '屏幕', '处理器', '挺', ' ', ' ', ' ', '游戏', '压力', ' ', ' ', '下载', '东西', '便捷', ' ', ' ', '快递', '运输', '很快', ' ', ' ', ' ', '赞'], '3']]\n"
     ]
    }
   ],
   "source": [
    "import jieba\n",
    "dictionary = []            \n",
    "stop_words = []            \n",
    "clear_dataset = []         \n",
    "with open('C:/Users/jiajian233/Desktop/朴素贝叶斯/file/cn-stopwords.txt', 'r', encoding='UTF-8') as fp:\n",
    "    stop_words = fp.read().split('\\n')\n",
    "for comment in dataset:\n",
    "    words = []      #存放切词后、去除停用词后的句子词组  \n",
    "    for word in jieba.lcut(comment[0]):    \n",
    "        if word not in stop_words:\n",
    "            words.append(word)\n",
    "        if word not in dictionary:\n",
    "            dictionary.append(word)\n",
    "    #追加句子词组和对应的标志\n",
    "    clear_dataset.append([words,comment[1]])\n",
    "print(dictionary[:20])\n",
    "print(clear_dataset[0:10])\n",
    "\n"
   ]
  },
  {
   "attachments": {},
   "cell_type": "markdown",
   "id": "26bc5bd9",
   "metadata": {},
   "source": [
    "## Step4: 评论语句 转化为 向量"
   ]
  },
  {
   "cell_type": "code",
   "execution_count": 3,
   "id": "595d976d",
   "metadata": {
    "scrolled": true
   },
   "outputs": [
    {
     "name": "stdout",
     "output_type": "stream",
     "text": [
      "[array([1., 1., 0., ..., 0., 0., 0.]), array([0., 0., 0., ..., 0., 0., 0.])]\n",
      "['3', '3', '3', '3', '3', '3', '3', '3', '3', '3']\n"
     ]
    }
   ],
   "source": [
    "from sklearn.model_selection import train_test_split\n",
    "X = []                                              \n",
    "y = [y[1] for y in clear_dataset]                   \n",
    "                                                \n",
    "for clear_data in clear_dataset:                                             \n",
    "    sentence = clear_data[0]                                                                                                                 \n",
    "    word_2_vec = np.zeros(len(dictionary))                                     \n",
    "    for word in sentence:                           \n",
    "        if word in dictionary:\n",
    "            loc = dictionary.index(word)            \n",
    "            word_2_vec[loc] += 1                    \n",
    "    X.append(word_2_vec)\n",
    "    \n",
    "print(X[0:2])   #评论向量\n",
    "print(y[0:10])  #评论标签\n"
   ]
  },
  {
   "attachments": {},
   "cell_type": "markdown",
   "id": "019c64bb",
   "metadata": {},
   "source": [
    "## Step5: 拆分数据集----训练集、测试集"
   ]
  },
  {
   "cell_type": "code",
   "execution_count": 4,
   "id": "ef3f2b5d",
   "metadata": {},
   "outputs": [
    {
     "name": "stdout",
     "output_type": "stream",
     "text": [
      "训练集输入\n",
      "[[0. 0. 0. ... 0. 0. 0.]\n",
      " [0. 0. 0. ... 0. 0. 0.]\n",
      " [0. 0. 0. ... 0. 0. 0.]\n",
      " ...\n",
      " [0. 0. 0. ... 0. 0. 0.]\n",
      " [0. 0. 0. ... 0. 0. 0.]\n",
      " [0. 0. 0. ... 0. 0. 0.]]\n",
      "(6387, 14135)\n",
      "训练集输出\n",
      "['1' '1' '3' '3' '3' '3' '3' '3' '3' '3']\n",
      "(6387,)\n",
      "测试集输入\n",
      "[[0. 0. 0. ... 0. 0. 0.]\n",
      " [0. 0. 0. ... 0. 0. 0.]\n",
      " [0. 0. 0. ... 0. 0. 0.]\n",
      " ...\n",
      " [0. 0. 0. ... 0. 0. 0.]\n",
      " [0. 0. 0. ... 0. 0. 0.]\n",
      " [0. 0. 0. ... 0. 0. 0.]]\n",
      "(2130, 14135)\n",
      "测试集输出\n",
      "['3' '3' '3' '3' '3' '3' '1' '3' '3' '3']\n",
      "(2130,)\n"
     ]
    }
   ],
   "source": [
    "X = np.array(X)               #转化为numpy数组，X作为输入项，即评论生成的向量\n",
    "y = np.array(y)               #转化为numpy数组，y作为输出项，即评论的类别\n",
    "\n",
    "#X_train，y_train为训练集数据\n",
    "#X_test,y_test为测试集数据\n",
    "X_train, X_test, y_train, y_test = train_test_split(X, y)            #使用sklearn库的随即切分函数，将X、y划分为训练集与测试集\n",
    "\n",
    "\n",
    "#分别输出训练集的 X, y形状， 测试集的X, y的形状\n",
    "print('训练集输入')\n",
    "print(X_train[0:10])\n",
    "print(X_train.shape)\n",
    "print('训练集输出')\n",
    "print(y_train[0:10])\n",
    "print(y_train.shape)\n",
    "print('测试集输入')\n",
    "print(X_test[0:10])\n",
    "print(X_test.shape)\n",
    "print('测试集输出')\n",
    "print(y_test[0:10])\n",
    "print(y_test.shape)"
   ]
  },
  {
   "attachments": {},
   "cell_type": "markdown",
   "id": "fc5beac9",
   "metadata": {},
   "source": [
    "## Step6: 以朴素贝叶斯算法构建模型、训练模型"
   ]
  },
  {
   "attachments": {},
   "cell_type": "markdown",
   "id": "7125fbd7",
   "metadata": {},
   "source": [
    "这一段代码可能是最难理解的一段代码，因为此处涉及到**朴素贝叶斯模型**算法。"
   ]
  },
  {
   "attachments": {},
   "cell_type": "markdown",
   "id": "7b343aae",
   "metadata": {},
   "source": [
    "注意观察朴素贝叶斯算法:"
   ]
  },
  {
   "attachments": {},
   "cell_type": "markdown",
   "id": "af59e002",
   "metadata": {},
   "source": [
    "$$\n",
    "P(A|B) = \\frac{P(B|A)P(A)}{P(B)}\n",
    "$$"
   ]
  },
  {
   "attachments": {},
   "cell_type": "markdown",
   "id": "f9d268d6",
   "metadata": {},
   "source": [
    "即为:"
   ]
  },
  {
   "attachments": {},
   "cell_type": "markdown",
   "id": "169bcc29",
   "metadata": {},
   "source": [
    "$$\n",
    "P(类别|特征) = \\frac{P(特征|类别)P(类别)}{P(特征)}\n",
    "$$"
   ]
  },
  {
   "attachments": {},
   "cell_type": "markdown",
   "id": "43f418d6",
   "metadata": {},
   "source": [
    "此时问题转化为了求解:"
   ]
  },
  {
   "attachments": {},
   "cell_type": "markdown",
   "id": "c404e8aa",
   "metadata": {},
   "source": [
    "- $P(特征|类别)$\n",
    "- $P(类别)$\n",
    "- $P(特征)$"
   ]
  },
  {
   "attachments": {},
   "cell_type": "markdown",
   "id": "ec70c184",
   "metadata": {},
   "source": [
    "由于朴素贝叶斯的设定每个特征之间都是独立的,可以推出:"
   ]
  },
  {
   "attachments": {},
   "cell_type": "markdown",
   "id": "9c43aeb3",
   "metadata": {},
   "source": [
    "$$P(特征|类别) = P(特征1|类别) * P(特征2|类别) * P(特征3|类别) * ... * P(特征n|类别)$$"
   ]
  },
  {
   "attachments": {},
   "cell_type": "markdown",
   "id": "58a3b980",
   "metadata": {},
   "source": [
    "那么, 我们可以依次求出 P(特征1|类别)、P(特征2|类别)、P(特征3|类别)...P(特征n|类别)，即"
   ]
  },
  {
   "attachments": {},
   "cell_type": "markdown",
   "id": "0dac2471",
   "metadata": {},
   "source": [
    "$$\n",
    "P(特征i|类别) = \\frac{此类别发生时特征i出现次数}{类别次数(好评/差评次数)}\n",
    "$$"
   ]
  },
  {
   "attachments": {},
   "cell_type": "markdown",
   "id": "e6bbfd65",
   "metadata": {},
   "source": [
    "也可得出:"
   ]
  },
  {
   "attachments": {},
   "cell_type": "markdown",
   "id": "8fd44cf8",
   "metadata": {},
   "source": [
    "$$P(类别) = \\frac{某类别次数}{好评、差评之和}$$"
   ]
  },
  {
   "attachments": {},
   "cell_type": "markdown",
   "id": "0c5ec76a",
   "metadata": {},
   "source": [
    "如，$$ P(好评) = \\frac{好评次数}{好评、差评之和}$$"
   ]
  },
  {
   "attachments": {},
   "cell_type": "markdown",
   "id": "ee4bdec0",
   "metadata": {},
   "source": [
    "通过**全概率公式**，可知(本情景下仅两种类别)"
   ]
  },
  {
   "attachments": {},
   "cell_type": "markdown",
   "id": "9cc9cf85",
   "metadata": {},
   "source": [
    "$$\n",
    "P(特征) = P(类别1)*P(特征|类别1) + P(类别2)*P(特征|类别2)\n",
    "$$"
   ]
  },
  {
   "attachments": {},
   "cell_type": "markdown",
   "id": "f6af0e37",
   "metadata": {},
   "source": [
    "我们可以想象下，无论求好评概率或者差评概率，最终都要 除以 P(特征), P(特征)对于此两种概率是无变化的，所以我们可以将其**忽略**，都不除，直接比较。"
   ]
  },
  {
   "attachments": {},
   "cell_type": "markdown",
   "id": "2f57cdd9",
   "metadata": {},
   "source": [
    "此时，我们只需要求出所有 P(特征i|类别)，到时候便可方便使用贝叶斯公式计算, 代入到代码，可得\n",
    "\n",
    "good_pro, 即P(好评), 代表好评的概率\n",
    "\n",
    "good_num, 即好评次数\n",
    "\n",
    "bad_num，即差评次数\n",
    "\n",
    "good_vec, 作为一个好评向量，记录每次好评时，每个词语出现的次数\n",
    "\n",
    "bad_vec, 作为一个差评向量，记录每次差评时, 每个词语出现的次数\n",
    "\n",
    "good_vec_trained = good_vec / good_num，即用于存放所有的 P(特征i|好评)向量，每个值代表一个概率\n",
    "\n",
    "bad_vec_trained = bad_vec / bad_num, 即用于存放所有的 P(特征i|差评)向量，每个值代表一个概率"
   ]
  },
  {
   "attachments": {},
   "cell_type": "markdown",
   "id": "181d4703",
   "metadata": {},
   "source": [
    "最后套用朴素贝叶斯公式，即可得出每条评论的情感，好评或差评。"
   ]
  },
  {
   "cell_type": "code",
   "execution_count": 9,
   "id": "17cf8d7f",
   "metadata": {},
   "outputs": [
    {
     "name": "stdout",
     "output_type": "stream",
     "text": [
      "good_pro is: 0.7007984969469234\n",
      "good_vec_trained is: [-8.40648507 -4.49446206 -8.40648507 ... -8.40648507 -8.40648507\n",
      " -8.40648507]\n",
      "bad_vec_trained is: [-7.55538194 -6.45676966 -7.55538194 ... -7.55538194 -7.55538194\n",
      " -7.55538194]\n"
     ]
    }
   ],
   "source": [
    "len_dic = len(dictionary)                                       \n",
    "good_pro = np.sum(y_train == '3')/len(X_train)                 \n",
    "good_num = 0                                                   \n",
    "bad_num = 0                                                    \n",
    "#初始化之所以为 1，是防止P(特征i|类别)中某个为0，导致连乘积为0\n",
    "good_vec = np.ones(len_dic)                                     \n",
    "bad_vec = np.ones(len_dic)                                      \n",
    "for i in range(len(X_train)):\n",
    "    if (y_train[i] == '3'):\n",
    "        good_vec += X_train[i]                                  \n",
    "        good_num += 1                                           \n",
    "    else:\n",
    "        bad_vec += X_train[i]                                   \n",
    "        bad_num += 1                                            \n",
    "#取log的原因有二：1、拉普拉斯平滑，防止太小的结果乘积造成下溢。2、log(连乘积)可以转化为 log累加\n",
    "good_vec_trained = np.log(good_vec/good_num)                    \n",
    "bad_vec_trained = np.log(bad_vec/bad_num)                       \n",
    "\n",
    "print('good_pro is: {}'.format(good_pro))\n",
    "print('good_vec_trained is: {}'.format(good_vec_trained))\n",
    "print('bad_vec_trained is: {}'.format(bad_vec_trained))"
   ]
  },
  {
   "attachments": {},
   "cell_type": "markdown",
   "id": "919846c8",
   "metadata": {},
   "source": [
    "理论上讲此处 good_pro 应为 0.6，指的是好评概率，但可能获取的数据有些纰漏，导致good_pro为 0.599333，对于模型并无大碍。"
   ]
  },
  {
   "attachments": {},
   "cell_type": "markdown",
   "id": "16a8a883",
   "metadata": {},
   "source": [
    "## Step7: 评估模型"
   ]
  },
  {
   "attachments": {},
   "cell_type": "markdown",
   "id": "926f2431",
   "metadata": {},
   "source": [
    "训练完模型，得到good_vec_trained、bad_vec_trained、good_pro后，就可以直接根据**贝叶斯公式**计算好评或者差评的概率"
   ]
  },
  {
   "attachments": {},
   "cell_type": "markdown",
   "id": "dfa37599",
   "metadata": {},
   "source": [
    "因为使用了**拉普拉斯平滑**，所以贝叶斯公式的分子项:"
   ]
  },
  {
   "attachments": {},
   "cell_type": "markdown",
   "id": "a93ccbec",
   "metadata": {},
   "source": [
    "$$\n",
    "Log(P(特征|类别)P(类别)) = Log(P(特征1|类别) * P(特征2|类别) * P(特征3|类别) * ... * P(特征n|类别)) + Log(P(类别))\n",
    "$$"
   ]
  },
  {
   "attachments": {},
   "cell_type": "markdown",
   "id": "1c1840aa",
   "metadata": {},
   "source": [
    "可转化为:"
   ]
  },
  {
   "attachments": {},
   "cell_type": "markdown",
   "id": "ea6622f9",
   "metadata": {},
   "source": [
    "$$Log(P(特征|类别)P(类别))) = Log(P(特征1|类别)) + Log(P(特征2|类别)) + ... + Log(P(特征n|类别)) + Log(P(类别))$$"
   ]
  },
  {
   "attachments": {},
   "cell_type": "markdown",
   "id": "3edeffa1",
   "metadata": {},
   "source": [
    "其中，X_test[i]  表示一个评论语句转化成的向量。\n",
    "\n",
    "例如，\n",
    "\n",
    "\n",
    "P(特征|好评) = X_test[i] * good_vec_trained，两个向量数组相乘，列表内的值，两两相乘，最后得到结果"
   ]
  },
  {
   "attachments": {},
   "cell_type": "markdown",
   "id": "d7229356",
   "metadata": {},
   "source": [
    "以下是对测试集，未训练的数据进行测试，评估模型的性能"
   ]
  },
  {
   "cell_type": "code",
   "execution_count": 6,
   "id": "db2014f2",
   "metadata": {
    "scrolled": true
   },
   "outputs": [
    {
     "name": "stdout",
     "output_type": "stream",
     "text": [
      "朴素贝叶斯模型(bayes)预测的准确度: 0.949\n"
     ]
    }
   ],
   "source": [
    "success_count = 0\n",
    "for i in range(2000):\n",
    "    good_pro_pre = np.sum(X_test[i] * good_vec_trained) + np.log(good_pro)\n",
    "    bad_pro_pre = np.sum(X_test[i] * bad_vec_trained) + np.log(1-good_pro)\n",
    "    if good_pro_pre > bad_pro_pre:\n",
    "        result = '3'                                                           \n",
    "    else:\n",
    "        result = '1'                                                           \n",
    "    if(y_test[i] == result):                                                    \n",
    "        success_count +=1\n",
    "print('朴素贝叶斯模型(bayes)预测的准确度: {}'.format(success_count/2000))\n",
    "\n"
   ]
  },
  {
   "attachments": {},
   "cell_type": "markdown",
   "id": "b524b48c",
   "metadata": {},
   "source": [
    "经过对 2000 条测试数据逐一预测，得到该模型的准确度为 95.15%，效果不算太差，模型构建成功，后续可作适当优化。"
   ]
  },
  {
   "attachments": {},
   "cell_type": "markdown",
   "id": "059f8036",
   "metadata": {},
   "source": [
    "## Step8: 测试评论，输出情绪分类"
   ]
  },
  {
   "attachments": {},
   "cell_type": "markdown",
   "id": "383b1e4b",
   "metadata": {},
   "source": [
    "输入 50 条评论信息，测试模型预测效果"
   ]
  },
  {
   "cell_type": "code",
   "execution_count": 12,
   "id": "e2424b88",
   "metadata": {
    "scrolled": false
   },
   "outputs": [
    {
     "name": "stdout",
     "output_type": "stream",
     "text": [
      "流畅 | 联想 | 电脑 | 货 | 速度 | 真的 | 开机 | 游戏 | 活动 | 开 | 大气 | 不卡 | 京东 | 一点 | 想 | 那种 | 很久 | 要死 | 冲冲 | 卖断 | \n",
      "\n",
      "Predict result : 好评\tActual results: 好评\tPredict success!\t\n",
      "\n",
      "\n",
      "发货 | 快递 | 收到 | 质量 | 购物 | 放心 | 棒 | 保障 | 完美 | 一段时间 | 京东 | 到位 | 手机 | 送货 | 功能 | 天 | 服务到位 | 好些 | 5G | \n",
      "\n",
      "Predict result : 好评\tActual results: 好评\tPredict success!\t\n",
      "\n",
      "\n",
      "流畅 | 喜欢 | 下载 | 游戏 | 一点点 | 说 | 高级 | 买来 | 系统 | 确实 | 重 | 重量 | nice | 颜色 | 紫色 | 版 | 那种 | 稍微 | 显得 | 女孩子 | 我用 | 用惯 | 比例 | 丢 | 一眼 | 清晰版 | 肤色 | 拍成 | 丟 | 冷色调 | 显白 | 黄 | 普拉斯 | \n",
      "\n",
      "Predict result : 好评\tActual results: 好评\tPredict success!\t\n",
      "\n",
      "\n",
      "  | 很快 | 外观 | 买 | 性能 | 真的 | 外形 | 开机 | 运行 | 屏幕 | 时间 | 内存 | 散热 | 色彩 | 划算 | \n",
      "\n",
      "Predict result : 好评\tActual results: 好评\tPredict success!\t\n",
      "\n",
      "\n",
      "下午 | 坏 | 中午 | \n",
      "\n",
      "Predict result : 好评\tActual results: 差评\tPredict fail!\t\n",
      "\n",
      "\n",
      "客服 | 发货 | 收到 | 说 | 问 | 手机 | 耳机 | 登记 | 没次 | \n",
      "\n",
      "Predict result : 差评\tActual results: 差评\tPredict success!\t\n",
      "\n",
      "\n",
      "喜欢 | 电脑 | 质量 | 游戏 | 中 | 赠品 | 刚刚 | 想象 | 时间 | 系统 | 散热 | 重 | 发热 | 重量 | 携带方便 | 好玩 | 小时 | 像是 | 短 | \n",
      "\n",
      "Predict result : 好评\tActual results: 好评\tPredict success!\t\n",
      "\n",
      "\n",
      "真的 | 体验 | 不到 | 情况 | 毛病 | 卡 | 关机 | 10 | 买回来 | 有时候 | 天 | 黑屏 | 差 | \n",
      "\n",
      "Predict result : 差评\tActual results: 差评\tPredict success!\t\n",
      "\n",
      "\n",
      "买 | 电池 | 后悔 | 不敢恭维 | \n",
      "\n",
      "Predict result : 差评\tActual results: 差评\tPredict success!\t\n",
      "\n",
      "\n",
      "买 | 电脑 | 不到 | 星期 | 卡机 | 几次 | 两 | 千万别 | 辣鸡 | 考研 | 复试 | \n",
      "\n",
      "Predict result : 差评\tActual results: 差评\tPredict success!\t\n",
      "\n",
      "\n",
      "好看 | 感觉 | 舒服 | 续航 | 屏幕 | 划痕 | 软件 | 质量 | 几天 | 视频 | 电池 | 屏幕显示 | 信号 | 音质 | 千多 | 边框 | 后台 | 原装 | 耐用 | 坑 | 太快 | 字母 | 设置 | 拍照 | 耗电 | 太多 | 没用 | 贴 | 毫安 | 苹果 | 素皮 | 后背 | 两充 | 广告 | 果子 | 营业厅 | 系统软件 | 起皮 | 一碰 | 翘边 | 里关 | 更差 | \n",
      "\n",
      "Predict result : 差评\tActual results: 差评\tPredict success!\t\n",
      "\n",
      "\n",
      "很快 | 朋友 | 下单 | 不错 | 满意 | 收到 | 下载 | 质量 | 体验 | 品牌 | 选择 | 京东 | 操作 | 数据 | 第二天 | 店 | 低 | 好几年 | 用过 | 换 | 熟悉 | 资料 | 新手机 | 搜索 | 新旧 | 搬家 | 时大 | 推送 | 返修率 | \n",
      "\n",
      "Predict result : 好评\tActual results: 好评\tPredict success!\t\n",
      "\n",
      "\n",
      "流畅 | 漂亮 | 入手 | 黑色 | 包裹 | 三年 | 果断 | 依然 | 荣耀 | 背部 | 镜头 | 换机 | 圆环 | 鸿蒙 | 直屏 | mate50 | 系统升级 | 金色 | 居中 | 挖孔 | 菜 | 主件 | \n",
      "\n",
      "Predict result : 好评\tActual results: 好评\tPredict success!\t\n",
      "\n",
      "\n",
      "天 | 降价 | 小心 | 保价 | 套路 | 别上 | \n",
      "\n",
      "Predict result : 差评\tActual results: 差评\tPredict success!\t\n",
      "\n",
      "\n",
      "好看 | 外观 | 喜欢 | 速度 | 外形 | 续航 | 运行 | 屏幕 | 卡顿 | 时尚 | 系统 | 音效 | 升级 | 待机时间 | 拍照 | 认证 | 中度 | 调 | 苹果 | 莱卡 | 配合 | miui14 | 哈曼 | 成相 | \n",
      "\n",
      "Predict result : 好评\tActual results: 好评\tPredict success!\t\n",
      "\n",
      "\n",
      "满满的 | 妹妹 | 本来 | 自信 | 十天 | 丢脸 | \n",
      "\n",
      "Predict result : 差评\tActual results: 差评\tPredict success!\t\n",
      "\n",
      "\n",
      "买 | 玩 | 卡顿 | 一段时间 | 系统 | 一点 | 10 | 几年 | 早 | 匹配 | 芯片 | 旧 | 苹果 | 魅特 | 就会 | 反应迟钝 | 闹心 | \n",
      "\n",
      "Predict result : 好评\tActual results: 差评\tPredict fail!\t\n",
      "\n",
      "\n",
      "流畅 | 产品 | 挺 | 满意 | 质感 | 键盘 | 屏幕 | 清晰 | 整体 | 摸 | 120 | 做工 | 情况 | 调节 | 精细 | 碰到 | 高刷 | 死机 | 透彻 | 带背光 | 亮度 | \n",
      "\n",
      "Predict result : 好评\tActual results: 好评\tPredict success!\t\n",
      "\n",
      "\n",
      "买 | 打字 | 声音 | 没多久 | 降价 | \n",
      "\n",
      "Predict result : 差评\tActual results: 差评\tPredict success!\t\n",
      "\n",
      "\n",
      "流畅 | 买 | 发货 | 满意 | 屏幕 | 度 | 妥妥 | 价位 | 力 | 说 | 系统 | 京东 | 手机 | 选 | 好多 | 太好了 | 年前 | 果断 | 素质 | 礼物 | 妈妈 | OPPO | 安卓前 | \n",
      "\n",
      "Predict result : 好评\tActual results: 好评\tPredict success!\t\n",
      "\n",
      "\n",
      "电脑 | 下单 | 货 | 收到 | 体验 | 找 | 上午 | 下午 | 第二天 | 回 | 消息 | 官方 | 头 | 降价 | 华为 | 人工 | 很差 | 踢皮球 | 踢 | \n",
      "\n",
      "Predict result : 差评\tActual results: 差评\tPredict success!\t\n",
      "\n",
      "\n",
      "物流 | 很快 | 买 | 下单 | 性价比 | 顺畅 | 手机 | 没得说 | 点赞 | 国产手机 | 备用机 | 母亲 | \n",
      "\n",
      "Predict result : 好评\tActual results: 好评\tPredict success!\t\n",
      "\n",
      "\n",
      "客服 | 手机 | 声音 | 坏 | 打电话 | 赞点 | 上点 | \n",
      "\n",
      "Predict result : 差评\tActual results: 差评\tPredict success!\t\n",
      "\n",
      "\n",
      "信号 | 天 | 维修 | 20 | 返厂 | 基带 | \n",
      "\n",
      "Predict result : 差评\tActual results: 差评\tPredict success!\t\n",
      "\n",
      "\n",
      "喜欢 | 不错 | 屏幕 | 效果 | 好用 | 细腻 | 卡 | 牌子 | 12 | 包括 | 屏 | 曲面 | 拍照 | 不输 | 全家 | 上市 | 一共 | 50 | 徕 | 拜拜 | mate50 | 很多年 | 7i | p30 | NOVA7 | 手指 | 至少 | 实实在在 | \n",
      "\n",
      "Predict result : 好评\tActual results: 好评\tPredict success!\t\n",
      "\n",
      "\n",
      "外观 | 流畅 | 性能 | 速度 | 特别 | 不错 | 外形 | 续航 | 清晰 | 充电 | 完美 | 超级 | 精致 | 大气 | 简约 | 很漂亮 | 靓丽 | 做工 | 手机 | 电池 | 显示 | 简单 | 色彩 | 精细 | 咯 | 耐用 | 拍照 | 出门 | 苹果 | 好点 | 渲染 | 云里 | 括 | 面子 | \n",
      "\n",
      "Predict result : 好评\tActual results: 好评\tPredict success!\t\n",
      "\n",
      "\n",
      "流畅 | 性能 | 速度 | 感觉 | 感 | 外形 | 舒服 | 运行 | 屏幕 | 效果 | 散热 | 科技 | 烫 | \n",
      "\n",
      "Predict result : 好评\tActual results: 好评\tPredict success!\t\n",
      "\n",
      "\n",
      "联想 | 纠结 | 买 | 电脑 | 失望 | 运行 | 屏幕 | 担心 | 爱不释手 | 很棒 | 这款 | 款 | 电脑屏幕 | 想 | 声音 | 入手 | 电影 | 强烈推荐 | 久 | 视觉 | 翻车 | 宝子们 | 很小 | \n",
      "\n",
      "Predict result : 好评\tActual results: 好评\tPredict success!\t\n",
      "\n",
      "\n",
      "质量 | 手机 | 黑屏 | \n",
      "\n",
      "Predict result : 差评\tActual results: 差评\tPredict success!\t\n",
      "\n",
      "\n",
      "感觉 | 挺 | 质感 | 中 | 总体 | 拥有 | 材质 | 挺舒服 | 手感 | 黑色 | 背面 | 色彩 | 超薄 | 银 | 玻璃 | 经典 | Mate | 流光 | 紫 | 星环 | 曜 | 冰霜 | 金黑 | 轴对称 | 三款 | 我入 | \n",
      "\n",
      "Predict result : 好评\tActual results: 好评\tPredict success!\t\n",
      "\n",
      "\n",
      "外观 | 买 | 速度 | 爆棚 | 外形 | 质感 | 续航 | 强 | 运行 | 总体 | 适合 | 效果 | 整体 | 一台 | 手感 | 尺寸 | 需求 | 确实 | 手机 | 音效 | 状态 | 分辨率 | 1080p | 观感 | 搭配 | 提升 | 版 | 看上 | 表现 | 顶级 | 待机时间 | 不用说 | 13 | 芯片 | 感知 | 待机 | 拿在手上 | 加持 | 台 | 探索 | 一冲 | 成像 | 直屏 | 莱卡 | 安卓 | 标准版 | 水印 | 8gen2 | 小屏 | MIUI14 | 10pro | 勉强 | 从红米 | 对屏 | 1as | \n",
      "\n",
      "Predict result : 好评\tActual results: 好评\tPredict success!\t\n",
      "\n",
      "\n",
      "流畅 | 拯救 | 喜欢 | 性能 | 购买 | 运行 | 东西 | 值得 | 玩游戏 | 3a | 大作 | 不卡 | 稳定 | 系统 | 一点 | 散热 | 入手 | 赶紧 | OK | 强大 | \n",
      "\n",
      "Predict result : 好评\tActual results: 好评\tPredict success!\t\n",
      "\n",
      "\n",
      "外观 | 预期 | 运行 | 屏幕 | 正 | 刷新率 | 游戏 | 体验 | 玩游戏 | 很棒 | 配置 | 优秀 | 开 | 存储 | 秒 | 内存 | 超棒 | 视频 | 手机 | 重量 | 分辨率 | 细腻 | 小白 | 拉满 | 色彩 | 超高 | 滑 | 轻 | 后台 | 真实 | 电 | 拍照 | 大片 | CPU | 配色 | 省 | 硬 | 还原 | 拍出 | APP | 皮质 | 动态 | 讨喜 | 显效 | \n",
      "\n",
      "Predict result : 好评\tActual results: 好评\tPredict success!\t\n",
      "\n",
      "\n",
      "买 | 失望 | 特别 | 打开 | 挺 | 满意 | 高 | 正品 | 颜值 | 质量 | 购物 | 迫不及待 | 到货 | 价格 | 还会 | 优惠 | 哒 | 棒棒 | \n",
      "\n",
      "Predict result : 好评\tActual results: 好评\tPredict success!\t\n",
      "\n",
      "\n",
      "外观 | 挺 | 品质 | 清晰 | 服务 | 充电 | 效果 | 简约 | 小时 | 声音 | 大方 | 拍照 | 多一点 | oppo | 续购 | \n",
      "\n",
      "Predict result : 好评\tActual results: 好评\tPredict success!\t\n",
      "\n",
      "\n",
      "买 | 说 | 手机 | 小时 | 模式 | 10 | 前 | 几款 | 黑 | 包括 | 优化 | 自动 | 电 | 荣耀 | 用到 | 一键 | 多天 | 自行 | 台 | 留 | 剩 | mate50 | 昆仑 | 破晓 | 差 | 设 | 耀金 | mate40 | 退而求其次 | 全家人 | 关 | 开发者 | 禁止 | 进程 | 62% | v20 | 追到 | 最次 | \n",
      "\n",
      "Predict result : 好评\tActual results: 差评\tPredict fail!\t\n",
      "\n",
      "\n",
      "很快 | 好看 | 外观 | 流畅 | 速度 | 特别 | 外形 | 质感 | 很棒 | 说 | 2k | 系统 | 手机 | 音效 | 毛病 | nice | 颜色 | 久 | 配 | 抗造 | 摔 | 玻璃 | 华为 | 鸿蒙 | 昆仑 | 耐 | 音色 | 外型 | 应有 | \n",
      "\n",
      "Predict result : 好评\tActual results: 好评\tPredict success!\t\n",
      "\n",
      "\n",
      "客服 | 屏幕 | 说 | 发热 | 小时 | 友好 | 耗电 | 掉电 | 70 | 条 | 最多 | 25 | 离谱 | 答辩 | 一坨 | 交互 | 调低 | \n",
      "\n",
      "Predict result : 差评\tActual results: 差评\tPredict success!\t\n",
      "\n",
      "\n",
      "很快 | 好看 | 性能 | 速度 | 不错 | 购买 | 快递 | 送 | 续航 | 收到 | 推荐 | 第一次 | 手感 | 手机 | 第二天 | 后壳 | 皮质 | 音箱 | 小爱 | \n",
      "\n",
      "Predict result : 好评\tActual results: 好评\tPredict success!\t\n",
      "\n",
      "\n",
      "客服 | 买 | 不错 | 赠送 | 价格 | 商家 | 没到 | 块 | 听说 | 事情 | 头 | 降价 | 买手机 | 保价 | 强制 | 退钱 | 不爽 | 只保 | 捆绑 | 2439 | 2399 | 42 | 还算到 | \n",
      "\n",
      "Predict result : 差评\tActual results: 差评\tPredict success!\t\n",
      "\n",
      "\n",
      "喜欢 | 性能 | 特别 | 不错 | 收到 | 这款 | 说 | 机身 | 够 | 手机 | 家里 | 平常 | 响应速度 | 送给 | 礼物 | 很正 | 红色 | OPPO | 运势 | 旺 | \n",
      "\n",
      "Predict result : 好评\tActual results: 好评\tPredict success!\t\n",
      "\n",
      "\n",
      "屏幕 | 说 | 漏光 | 换 | 两次 | 真不知道 | \n",
      "\n",
      "Predict result : 差评\tActual results: 差评\tPredict success!\t\n",
      "\n",
      "\n",
      "看着 | 操作 | 只能 | 吐 | 系统文件 | 垃圾文件 | 堆起 | \n",
      "\n",
      "Predict result : 差评\tActual results: 差评\tPredict success!\t\n",
      "\n",
      "\n",
      "好看 | 联想 | 朋友 | 特别 | 推荐 | 购物 | 体验 | 办公 | 适合 | 系统 | 京东 | 开心 | 好用 | 款式 | 同事 | 最新 | \n",
      "\n",
      "Predict result : 好评\tActual results: 好评\tPredict success!\t\n",
      "\n",
      "\n",
      "买 | 不错 | 高 | 配置 | 效果 | 14 | 支持 | 便宜 | 国货 | 13 | 订 | 想一想 | 退 | 从我做起 | \n",
      "\n",
      "Predict result : 好评\tActual results: 好评\tPredict success!\t\n",
      "\n",
      "\n",
      "外形 | 运行 | 清晰 | 优惠 | 图 | 运营 | 时尚 | 不卡顿 | 终于 | 关注 | 音效 | 很久 | 抠 | \n",
      "\n",
      "Predict result : 好评\tActual results: 好评\tPredict success!\t\n",
      "\n",
      "\n",
      "货 | 收到 | 不到 | 小时 | 100 | 降 | \n",
      "\n",
      "Predict result : 差评\tActual results: 差评\tPredict success!\t\n",
      "\n",
      "\n",
      "好看 | 喜欢 | 不错 | 外形 | 高 | 性价比 | 收到 | 清晰 | 一段时间 | 手感 | 评价 | 界面 | oppo | \n",
      "\n",
      "Predict result : 好评\tActual results: 好评\tPredict success!\t\n",
      "\n",
      "\n",
      "刷 | 手机 | 聊天 | 评论 | 说实话 | 旧 | 耗电 | 两充 | \n",
      "\n",
      "Predict result : 好评\tActual results: 差评\tPredict fail!\t\n",
      "\n",
      "\n",
      "产品 | 收到 | 说 | 第一 | 时间 | 手机 | 抢 | 情况 | 现象 | 操作 | 未激活 | 新机 | 收货 | 帮忙 | 多久 | 发现 | 掉 | 扯 | 漆 | 安排 | 神 | 五天 | 想着 | 好多天 | 寄过去 | 拒收 | 加急 | 寄过 | 犊子 | \n",
      "\n",
      "Predict result : 差评\tActual results: 差评\tPredict success!\t\n",
      "\n",
      "\n",
      "本次测试预测准确度为: 0.92\n"
     ]
    }
   ],
   "source": [
    "import random\n",
    "dic_len = len(dictionary)\n",
    "start = random.randint(50, 2450)\n",
    "X_data = X_test[start:start+50]\n",
    "y_data = y_test[start:start+50]\n",
    "success_test = 0\n",
    "for sequence_index in range(len(X_data)):\n",
    "    locs = np.where(X_data[sequence_index] == 1)\n",
    "    for loc in locs[0]:\n",
    "        print(dictionary[loc] ,end=' | ')\n",
    "    print('\\n')\n",
    "    \n",
    "    good_pro_pre = np.sum(X_data[sequence_index] * good_vec_trained) + np.log(good_pro)        \n",
    "    bad_pro_pre = np.sum(X_data[sequence_index] * bad_vec_trained) + np.log(1-good_pro)        \n",
    "    if good_pro_pre > bad_pro_pre:\n",
    "        result = '3'                     #输出好评\n",
    "        print('Predict result : 好评', end='\\t')\n",
    "    else:\n",
    "        result = '1'                     #否则输出差评\n",
    "        print('Predict result : 差评', end='\\t')\n",
    "\n",
    "    if y_data[sequence_index] == '3':\n",
    "        print('Actual results: 好评', end='\\t')\n",
    "    else:   \n",
    "        print('Actual results: 差评', end='\\t')\n",
    "\n",
    "    if result == y_data[sequence_index]:\n",
    "        print('Predict success!', end='\\t')\n",
    "        success_test += 1\n",
    "    else:\n",
    "        print('Predict fail!', end='\\t')\n",
    "        \n",
    "    print('\\n\\n')\n",
    "\n",
    "print('本次测试预测准确度为: {}'.format(success_test/50))"
   ]
  }
 ],
 "metadata": {
  "kernelspec": {
   "display_name": "Python 3 (ipykernel)",
   "language": "python",
   "name": "python3"
  },
  "language_info": {
   "codemirror_mode": {
    "name": "ipython",
    "version": 3
   },
   "file_extension": ".py",
   "mimetype": "text/x-python",
   "name": "python",
   "nbconvert_exporter": "python",
   "pygments_lexer": "ipython3",
   "version": "3.7.16"
  }
 },
 "nbformat": 4,
 "nbformat_minor": 5
}
